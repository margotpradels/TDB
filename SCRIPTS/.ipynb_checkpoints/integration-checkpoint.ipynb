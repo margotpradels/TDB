{
 "cells": [
  {
   "cell_type": "markdown",
   "id": "1cb0f9fd-1d8b-445e-bfff-1698a581e34d",
   "metadata": {},
   "source": [
    "Import des librairies nécessaires: "
   ]
  },
  {
   "cell_type": "code",
   "execution_count": 1,
   "id": "1537f76f-db5b-49ec-8b70-ac1b9591926c",
   "metadata": {},
   "outputs": [],
   "source": [
    "import pandas as pd"
   ]
  },
  {
   "cell_type": "markdown",
   "id": "6dfe241a-4740-404e-a4a4-62e9ac5949cc",
   "metadata": {},
   "source": [
    "Intégration et nettoyage des données: "
   ]
  },
  {
   "cell_type": "code",
   "execution_count": 15,
   "id": "b1c1aa60-5792-4c09-a780-ca17dd8b0164",
   "metadata": {},
   "outputs": [
    {
     "name": "stdout",
     "output_type": "stream",
     "text": [
      "     ODD INDICATEUR_DEVDUR UNIT_MEASURE  UNIT_MULT OBS_STATUS GEO GEO_OBJECT  \\\n",
      "0   ODD1             1.i1a           PT          0          A  FM     FRANCE   \n",
      "1   ODD3              3.i2           _Z          0          E   F     FRANCE   \n",
      "2   ODD2             2.i2f           PT          0          L   F     FRANCE   \n",
      "3   ODD1             1.i1a           PT          0          A  FM     FRANCE   \n",
      "4  ODD11             11.i1           PT          0          L  FM     FRANCE   \n",
      "\n",
      "  DEVDUR_COMPOSITE SEX     AGE EMPSTA  PCS TYPE_INDICATEUR_DEVDUR  \\\n",
      "0     NIVIEMED_S60  _T      _T     11   _T                  I_ODD   \n",
      "1    CONTAMIN_MOD4  _T      _T     _Z   _Z                  I_ODD   \n",
      "2               _Z  _T      _Z     _Z  1_2                  I_ODD   \n",
      "3     NIVIEMED_S60  _T  Y40T49     _T   _T                  I_ODD   \n",
      "4               _Z  _T      _T     _Z   _Z                  I_ODD   \n",
      "\n",
      "   TIME_PERIOD  OBS_VALUE  \n",
      "0         2015        6.5  \n",
      "1         2021      255.0  \n",
      "2         2015        NaN  \n",
      "3         2016       13.5  \n",
      "4         2015        NaN  \n",
      "         ODD INDICATEUR_DEVDUR UNIT_MEASURE    UNIT_MULT OBS_STATUS   GEO  \\\n",
      "count   9076              9076         9076  9076.000000       9076  9076   \n",
      "unique    17               175           20          NaN          6     5   \n",
      "top     ODD3              8.i2           PT          NaN          A     F   \n",
      "freq    1187               525         4606          NaN       5664  4698   \n",
      "mean     NaN               NaN          NaN     1.104011        NaN   NaN   \n",
      "std      NaN               NaN          NaN     2.246952        NaN   NaN   \n",
      "min      NaN               NaN          NaN     0.000000        NaN   NaN   \n",
      "25%      NaN               NaN          NaN     0.000000        NaN   NaN   \n",
      "50%      NaN               NaN          NaN     0.000000        NaN   NaN   \n",
      "75%      NaN               NaN          NaN     0.000000        NaN   NaN   \n",
      "max      NaN               NaN          NaN     6.000000        NaN   NaN   \n",
      "\n",
      "       GEO_OBJECT DEVDUR_COMPOSITE   SEX   AGE EMPSTA   PCS  \\\n",
      "count        9076             9076  9076  9076   9076  9076   \n",
      "unique          2              192     7    40     11     8   \n",
      "top        FRANCE               _Z    _Z    _Z     _Z    _Z   \n",
      "freq         8948             3985  4481  5061   8071  7891   \n",
      "mean          NaN              NaN   NaN   NaN    NaN   NaN   \n",
      "std           NaN              NaN   NaN   NaN    NaN   NaN   \n",
      "min           NaN              NaN   NaN   NaN    NaN   NaN   \n",
      "25%           NaN              NaN   NaN   NaN    NaN   NaN   \n",
      "50%           NaN              NaN   NaN   NaN    NaN   NaN   \n",
      "75%           NaN              NaN   NaN   NaN    NaN   NaN   \n",
      "max           NaN              NaN   NaN   NaN    NaN   NaN   \n",
      "\n",
      "       TYPE_INDICATEUR_DEVDUR  TIME_PERIOD     OBS_VALUE  \n",
      "count                    9076  9076.000000  6.837000e+03  \n",
      "unique                      3          NaN           NaN  \n",
      "top                     I_ODD          NaN           NaN  \n",
      "freq                     6543          NaN           NaN  \n",
      "mean                      NaN  2015.546166  3.425322e+05  \n",
      "std                       NaN     7.218630  2.847004e+06  \n",
      "min                       NaN  1975.000000 -7.756837e+00  \n",
      "25%                       NaN  2012.000000  7.700000e+00  \n",
      "50%                       NaN  2017.000000  3.660000e+01  \n",
      "75%                       NaN  2021.000000  1.160000e+02  \n",
      "max                       NaN  2024.000000  3.010601e+07  \n"
     ]
    }
   ],
   "source": [
    "data = pd.read_csv(\"DS_DEVDUR_data.csv\", sep=\";\")\n",
    "print(data.head())\n",
    "print(data.describe(include='all'))"
   ]
  },
  {
   "cell_type": "code",
   "execution_count": null,
   "id": "78fda094-ca81-4a29-8690-52ce92b34ae5",
   "metadata": {},
   "outputs": [],
   "source": []
  },
  {
   "cell_type": "markdown",
   "id": "ed6ec19f-bea7-499d-b060-c634be8a5bf4",
   "metadata": {},
   "source": [
    "Traitement des données: "
   ]
  }
 ],
 "metadata": {
  "kernelspec": {
   "display_name": "Python 3 (ipykernel)",
   "language": "python",
   "name": "python3"
  },
  "language_info": {
   "codemirror_mode": {
    "name": "ipython",
    "version": 3
   },
   "file_extension": ".py",
   "mimetype": "text/x-python",
   "name": "python",
   "nbconvert_exporter": "python",
   "pygments_lexer": "ipython3",
   "version": "3.12.9"
  }
 },
 "nbformat": 4,
 "nbformat_minor": 5
}
