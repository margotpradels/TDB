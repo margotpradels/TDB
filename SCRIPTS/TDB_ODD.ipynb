{
 "cells": [
  {
   "cell_type": "markdown",
   "id": "1cb0f9fd-1d8b-445e-bfff-1698a581e34d",
   "metadata": {
    "papermill": {
     "duration": 0.005191,
     "end_time": "2025-06-03T09:40:12.261895",
     "exception": false,
     "start_time": "2025-06-03T09:40:12.256704",
     "status": "completed"
    },
    "tags": []
   },
   "source": [
    "Import des librairies nécessaires: "
   ]
  },
  {
   "cell_type": "code",
   "execution_count": 1,
   "id": "1537f76f-db5b-49ec-8b70-ac1b9591926c",
   "metadata": {
    "execution": {
     "iopub.execute_input": "2025-06-03T09:40:12.275419Z",
     "iopub.status.busy": "2025-06-03T09:40:12.274686Z",
     "iopub.status.idle": "2025-06-03T09:40:12.979437Z",
     "shell.execute_reply": "2025-06-03T09:40:12.978303Z"
    },
    "papermill": {
     "duration": 0.714413,
     "end_time": "2025-06-03T09:40:12.982645",
     "exception": false,
     "start_time": "2025-06-03T09:40:12.268232",
     "status": "completed"
    },
    "tags": []
   },
   "outputs": [],
   "source": [
    "import pandas as pd\n",
    "import openpyxl\n",
    "import os"
   ]
  },
  {
   "cell_type": "markdown",
   "id": "6dfe241a-4740-404e-a4a4-62e9ac5949cc",
   "metadata": {
    "papermill": {
     "duration": 0.005223,
     "end_time": "2025-06-03T09:40:12.994478",
     "exception": false,
     "start_time": "2025-06-03T09:40:12.989255",
     "status": "completed"
    },
    "tags": []
   },
   "source": [
    "Intégration et nettoyage des données: "
   ]
  },
  {
   "cell_type": "code",
   "execution_count": 2,
   "id": "74cb8fea-71ee-42cb-8936-d39325662cd2",
   "metadata": {
    "execution": {
     "iopub.execute_input": "2025-06-03T09:40:13.004878Z",
     "iopub.status.busy": "2025-06-03T09:40:13.004211Z",
     "iopub.status.idle": "2025-06-03T09:40:13.011421Z",
     "shell.execute_reply": "2025-06-03T09:40:13.010397Z"
    },
    "papermill": {
     "duration": 0.017271,
     "end_time": "2025-06-03T09:40:13.015655",
     "exception": false,
     "start_time": "2025-06-03T09:40:12.998384",
     "status": "completed"
    },
    "tags": []
   },
   "outputs": [],
   "source": [
    "## Définition de fonction d'intégration\n",
    "def charger(path, sep=\";\"):\n",
    "    df = pd.read_csv(path, sep=sep)\n",
    "    return df\n",
    "\n",
    "def nettoyer(df):\n",
    "    df = df.drop_duplicates()\n",
    "    df = df.fillna(\"NA\")\n",
    "    return df\n",
    "\n",
    "def sauvegarder(df, path):\n",
    "    os.makedirs(os.path.dirname(path), exist_ok=True)\n",
    "    df.to_csv(path, index=False)\n"
   ]
  },
  {
   "cell_type": "code",
   "execution_count": 3,
   "id": "03149b38-72b1-418d-9304-bfe31970490a",
   "metadata": {
    "execution": {
     "iopub.execute_input": "2025-06-03T09:40:13.033889Z",
     "iopub.status.busy": "2025-06-03T09:40:13.033092Z",
     "iopub.status.idle": "2025-06-03T09:40:13.087956Z",
     "shell.execute_reply": "2025-06-03T09:40:13.086905Z"
    },
    "papermill": {
     "duration": 0.069513,
     "end_time": "2025-06-03T09:40:13.090326",
     "exception": false,
     "start_time": "2025-06-03T09:40:13.020813",
     "status": "completed"
    },
    "tags": []
   },
   "outputs": [],
   "source": [
    "## Chargement des données\n",
    "data = nettoyer(charger(\"../DS_DEVDUR_data.csv\")) \n",
    "meta = nettoyer(charger(\"../DS_DEVDUR_metadata.csv\"))"
   ]
  },
  {
   "cell_type": "markdown",
   "id": "ed6ec19f-bea7-499d-b060-c634be8a5bf4",
   "metadata": {
    "papermill": {
     "duration": 0.003973,
     "end_time": "2025-06-03T09:40:13.101807",
     "exception": false,
     "start_time": "2025-06-03T09:40:13.097834",
     "status": "completed"
    },
    "tags": []
   },
   "source": [
    "Transformation des données: "
   ]
  },
  {
   "cell_type": "code",
   "execution_count": 4,
   "id": "e178c33c-8e92-4182-b270-d1406b2f138c",
   "metadata": {
    "execution": {
     "iopub.execute_input": "2025-06-03T09:40:13.120141Z",
     "iopub.status.busy": "2025-06-03T09:40:13.119462Z",
     "iopub.status.idle": "2025-06-03T09:40:13.135646Z",
     "shell.execute_reply": "2025-06-03T09:40:13.134520Z"
    },
    "papermill": {
     "duration": 0.029217,
     "end_time": "2025-06-03T09:40:13.137412",
     "exception": false,
     "start_time": "2025-06-03T09:40:13.108195",
     "status": "completed"
    },
    "tags": []
   },
   "outputs": [],
   "source": [
    "## Création des tables de correspondances\n",
    "\n",
    "def tables_correspondances(meta):\n",
    "    tables = {}\n",
    "    variables = meta['COD_VAR'].unique()\n",
    "\n",
    "    for var in variables:\n",
    "        sous_table = meta[meta['COD_VAR'] == var]\n",
    "        correspondance = sous_table[['COD_MOD', 'LIB_MOD']].drop_duplicates()\n",
    "        tables[var] = correspondance\n",
    "    return tables\n",
    "\n",
    "def sauvegarder_tables(tables, dossier_sortie):\n",
    "    os.makedirs(dossier_sortie, exist_ok=True)\n",
    "\n",
    "    for var, table in tables.items():\n",
    "        nom_fichier = f\"{var}_correspondance.csv\"\n",
    "        chemin = os.path.join(dossier_sortie, nom_fichier)\n",
    "        table.to_csv(chemin, index=False)\n",
    "        print(f\"Correspondances '{var}' enregistrée : {chemin}\")"
   ]
  },
  {
   "cell_type": "code",
   "execution_count": 5,
   "id": "d16fc63a-d152-4690-9c12-ce6030d5b6b0",
   "metadata": {
    "execution": {
     "iopub.execute_input": "2025-06-03T09:40:13.146830Z",
     "iopub.status.busy": "2025-06-03T09:40:13.146518Z",
     "iopub.status.idle": "2025-06-03T09:40:13.185052Z",
     "shell.execute_reply": "2025-06-03T09:40:13.183564Z"
    },
    "papermill": {
     "duration": 0.04876,
     "end_time": "2025-06-03T09:40:13.188002",
     "exception": false,
     "start_time": "2025-06-03T09:40:13.139242",
     "status": "completed"
    },
    "tags": []
   },
   "outputs": [
    {
     "name": "stdout",
     "output_type": "stream",
     "text": [
      "Correspondances 'AGE' enregistrée : ../DATA/AGE_correspondance.csv\n",
      "Correspondances 'DEVDUR_COMPOSITE' enregistrée : ../DATA/DEVDUR_COMPOSITE_correspondance.csv\n",
      "Correspondances 'EMPSTA' enregistrée : ../DATA/EMPSTA_correspondance.csv\n",
      "Correspondances 'INDICATEUR_DEVDUR' enregistrée : ../DATA/INDICATEUR_DEVDUR_correspondance.csv\n",
      "Correspondances 'OBS_STATUS' enregistrée : ../DATA/OBS_STATUS_correspondance.csv\n",
      "Correspondances 'ODD' enregistrée : ../DATA/ODD_correspondance.csv\n",
      "Correspondances 'PCS' enregistrée : ../DATA/PCS_correspondance.csv\n",
      "Correspondances 'SEX' enregistrée : ../DATA/SEX_correspondance.csv\n",
      "Correspondances 'TIME_PERIOD' enregistrée : ../DATA/TIME_PERIOD_correspondance.csv\n",
      "Correspondances 'TYPE_INDICATEUR_DEVDUR' enregistrée : ../DATA/TYPE_INDICATEUR_DEVDUR_correspondance.csv\n",
      "Correspondances 'UNIT_MEASURE' enregistrée : ../DATA/UNIT_MEASURE_correspondance.csv\n",
      "Correspondances 'UNIT_MULT' enregistrée : ../DATA/UNIT_MULT_correspondance.csv\n",
      "Correspondances 'GEO' enregistrée : ../DATA/GEO_correspondance.csv\n"
     ]
    }
   ],
   "source": [
    "correspondances = sauvegarder_tables(tables_correspondances(meta), \"../DATA\")"
   ]
  },
  {
   "cell_type": "markdown",
   "id": "ba7387b5-61e7-43da-b95c-6f9b2631c669",
   "metadata": {
    "papermill": {
     "duration": 0.016132,
     "end_time": "2025-06-03T09:40:13.211990",
     "exception": false,
     "start_time": "2025-06-03T09:40:13.195858",
     "status": "completed"
    },
    "tags": []
   },
   "source": [
    "Intégration des données à l'excel résultat"
   ]
  },
  {
   "cell_type": "code",
   "execution_count": 6,
   "id": "27eb630f-9b2e-4cb3-b840-d20a1458cf16",
   "metadata": {
    "execution": {
     "iopub.execute_input": "2025-06-03T09:40:13.228342Z",
     "iopub.status.busy": "2025-06-03T09:40:13.227485Z",
     "iopub.status.idle": "2025-06-03T09:40:16.227102Z",
     "shell.execute_reply": "2025-06-03T09:40:16.226271Z"
    },
    "papermill": {
     "duration": 3.007018,
     "end_time": "2025-06-03T09:40:16.228905",
     "exception": false,
     "start_time": "2025-06-03T09:40:13.221887",
     "status": "completed"
    },
    "tags": []
   },
   "outputs": [],
   "source": [
    "from openpyxl import Workbook\n",
    "\n",
    "path_file = '../OUTPUT/TDB_ODD.xlsx'\n",
    "\n",
    "# Si le fichier n'existe pas, on le crée\n",
    "if not os.path.exists(path_file):\n",
    "    wb = Workbook()\n",
    "    wb.save(path_file)\n",
    "\n",
    "# Ensuite, on écrit dans le fichier\n",
    "with pd.ExcelWriter(path_file, mode='a', engine='openpyxl', if_sheet_exists='replace') as writer:\n",
    "    data.to_excel(writer, sheet_name='DATA', index=False)\n",
    "    meta.to_excel(writer, sheet_name='META', index=False)"
   ]
  },
  {
   "cell_type": "code",
   "execution_count": null,
   "id": "54670018-3d7b-4ad6-8a44-c8dbee2ffbc0",
   "metadata": {
    "papermill": {
     "duration": 0.013666,
     "end_time": "2025-06-03T09:40:16.248413",
     "exception": false,
     "start_time": "2025-06-03T09:40:16.234747",
     "status": "completed"
    },
    "tags": []
   },
   "outputs": [],
   "source": []
  }
 ],
 "metadata": {
  "kernelspec": {
   "display_name": "Python 3 (ipykernel)",
   "language": "python",
   "name": "python3"
  },
  "language_info": {
   "codemirror_mode": {
    "name": "ipython",
    "version": 3
   },
   "file_extension": ".py",
   "mimetype": "text/x-python",
   "name": "python",
   "nbconvert_exporter": "python",
   "pygments_lexer": "ipython3",
   "version": "3.12.9"
  },
  "papermill": {
   "default_parameters": {},
   "duration": 5.222955,
   "end_time": "2025-06-03T09:40:16.676639",
   "environment_variables": {},
   "exception": null,
   "input_path": "../SCRIPTS/integration.ipynb",
   "output_path": "../SCRIPTS/TDB_ODD.ipynb",
   "parameters": {},
   "start_time": "2025-06-03T09:40:11.453684",
   "version": "2.6.0"
  }
 },
 "nbformat": 4,
 "nbformat_minor": 5
}