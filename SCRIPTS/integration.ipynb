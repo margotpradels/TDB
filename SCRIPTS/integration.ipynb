{
 "cells": [
  {
   "cell_type": "markdown",
   "id": "1cb0f9fd-1d8b-445e-bfff-1698a581e34d",
   "metadata": {},
   "source": [
    "Import des librairies nécessaires: "
   ]
  },
  {
   "cell_type": "code",
   "execution_count": 42,
   "id": "1537f76f-db5b-49ec-8b70-ac1b9591926c",
   "metadata": {},
   "outputs": [],
   "source": [
    "import pandas as pd\n",
    "import os"
   ]
  },
  {
   "cell_type": "markdown",
   "id": "6dfe241a-4740-404e-a4a4-62e9ac5949cc",
   "metadata": {},
   "source": [
    "Intégration et nettoyage des données: "
   ]
  },
  {
   "cell_type": "code",
   "execution_count": 87,
   "id": "74cb8fea-71ee-42cb-8936-d39325662cd2",
   "metadata": {},
   "outputs": [],
   "source": [
    "## Définition de fonction d'intégration\n",
    "def charger(path, sep=\";\"):\n",
    "    df = pd.read_csv(path, sep=sep)\n",
    "    return df\n",
    "\n",
    "def nettoyer(df):\n",
    "    df = df.drop_duplicates()\n",
    "    df = df.fillna(\"NA\")\n",
    "    return df\n",
    "\n",
    "def sauvegarder(df, dossier_sortie):\n",
    "    os.makedirs(dossier_sortie, exist_ok=True)\n",
    "    nom_fichier = str(df)\n",
    "    chemin = os.path.join(dossier_sortie, nom_fichier)\n",
    "    df.to_csv(path, index=False)\n"
   ]
  },
  {
   "cell_type": "code",
   "execution_count": 77,
   "id": "e178c33c-8e92-4182-b270-d1406b2f138c",
   "metadata": {},
   "outputs": [],
   "source": [
    "## Création des tables de correspondances\n",
    "\n",
    "def tables_correspondances(meta):\n",
    "    tables = {}\n",
    "    variables = meta['COD_VAR'].unique()\n",
    "\n",
    "    for var in variables:\n",
    "        sous_table = meta[meta['COD_VAR'] == var]\n",
    "        correspondance = sous_table[['COD_MOD', 'LIB_MOD']].drop_duplicates()\n",
    "        tables[var] = correspondance\n",
    "    return tables\n",
    "\n",
    "def sauvegarder_tables(tables, dossier_sortie):\n",
    "    os.makedirs(dossier_sortie, exist_ok=True)\n",
    "\n",
    "    for var, table in tables.items():\n",
    "        nom_fichier = f\"{var}_correspondance.csv\"\n",
    "        chemin = os.path.join(dossier_sortie, nom_fichier)\n",
    "        table.to_csv(chemin, index=False)\n",
    "        print(f\"Correspondances '{var}' enregistrée : {chemin}\")"
   ]
  },
  {
   "cell_type": "code",
   "execution_count": 45,
   "id": "03149b38-72b1-418d-9304-bfe31970490a",
   "metadata": {},
   "outputs": [],
   "source": [
    "## Chargement des données\n",
    "meta = nettoyer(charger(\"../DS_DEVDUR_metadata.csv\",\";\"))\n",
    "data = nettoyer(charger(\"../DS_DEVDUR_data.csv\",\";\"))"
   ]
  },
  {
   "cell_type": "code",
   "execution_count": 46,
   "id": "9c822a7e-b778-4c4b-a268-fddb0eebef9f",
   "metadata": {},
   "outputs": [
    {
     "data": {
      "text/html": [
       "<div>\n",
       "<style scoped>\n",
       "    .dataframe tbody tr th:only-of-type {\n",
       "        vertical-align: middle;\n",
       "    }\n",
       "\n",
       "    .dataframe tbody tr th {\n",
       "        vertical-align: top;\n",
       "    }\n",
       "\n",
       "    .dataframe thead th {\n",
       "        text-align: right;\n",
       "    }\n",
       "</style>\n",
       "<table border=\"1\" class=\"dataframe\">\n",
       "  <thead>\n",
       "    <tr style=\"text-align: right;\">\n",
       "      <th></th>\n",
       "      <th>ODD</th>\n",
       "      <th>INDICATEUR_DEVDUR</th>\n",
       "      <th>UNIT_MEASURE</th>\n",
       "      <th>UNIT_MULT</th>\n",
       "      <th>OBS_STATUS</th>\n",
       "      <th>GEO</th>\n",
       "      <th>GEO_OBJECT</th>\n",
       "      <th>DEVDUR_COMPOSITE</th>\n",
       "      <th>SEX</th>\n",
       "      <th>AGE</th>\n",
       "      <th>EMPSTA</th>\n",
       "      <th>PCS</th>\n",
       "      <th>TYPE_INDICATEUR_DEVDUR</th>\n",
       "      <th>TIME_PERIOD</th>\n",
       "      <th>OBS_VALUE</th>\n",
       "    </tr>\n",
       "  </thead>\n",
       "  <tbody>\n",
       "    <tr>\n",
       "      <th>0</th>\n",
       "      <td>ODD1</td>\n",
       "      <td>1.i1a</td>\n",
       "      <td>PT</td>\n",
       "      <td>0</td>\n",
       "      <td>A</td>\n",
       "      <td>FM</td>\n",
       "      <td>FRANCE</td>\n",
       "      <td>NIVIEMED_S60</td>\n",
       "      <td>_T</td>\n",
       "      <td>_T</td>\n",
       "      <td>11</td>\n",
       "      <td>_T</td>\n",
       "      <td>I_ODD</td>\n",
       "      <td>2015</td>\n",
       "      <td>6.5</td>\n",
       "    </tr>\n",
       "    <tr>\n",
       "      <th>1</th>\n",
       "      <td>ODD3</td>\n",
       "      <td>3.i2</td>\n",
       "      <td>_Z</td>\n",
       "      <td>0</td>\n",
       "      <td>E</td>\n",
       "      <td>F</td>\n",
       "      <td>FRANCE</td>\n",
       "      <td>CONTAMIN_MOD4</td>\n",
       "      <td>_T</td>\n",
       "      <td>_T</td>\n",
       "      <td>_Z</td>\n",
       "      <td>_Z</td>\n",
       "      <td>I_ODD</td>\n",
       "      <td>2021</td>\n",
       "      <td>255.0</td>\n",
       "    </tr>\n",
       "    <tr>\n",
       "      <th>2</th>\n",
       "      <td>ODD2</td>\n",
       "      <td>2.i2f</td>\n",
       "      <td>PT</td>\n",
       "      <td>0</td>\n",
       "      <td>L</td>\n",
       "      <td>F</td>\n",
       "      <td>FRANCE</td>\n",
       "      <td>_Z</td>\n",
       "      <td>_T</td>\n",
       "      <td>_Z</td>\n",
       "      <td>_Z</td>\n",
       "      <td>1_2</td>\n",
       "      <td>I_ODD</td>\n",
       "      <td>2015</td>\n",
       "      <td>NA</td>\n",
       "    </tr>\n",
       "    <tr>\n",
       "      <th>3</th>\n",
       "      <td>ODD1</td>\n",
       "      <td>1.i1a</td>\n",
       "      <td>PT</td>\n",
       "      <td>0</td>\n",
       "      <td>A</td>\n",
       "      <td>FM</td>\n",
       "      <td>FRANCE</td>\n",
       "      <td>NIVIEMED_S60</td>\n",
       "      <td>_T</td>\n",
       "      <td>Y40T49</td>\n",
       "      <td>_T</td>\n",
       "      <td>_T</td>\n",
       "      <td>I_ODD</td>\n",
       "      <td>2016</td>\n",
       "      <td>13.5</td>\n",
       "    </tr>\n",
       "    <tr>\n",
       "      <th>4</th>\n",
       "      <td>ODD11</td>\n",
       "      <td>11.i1</td>\n",
       "      <td>PT</td>\n",
       "      <td>0</td>\n",
       "      <td>L</td>\n",
       "      <td>FM</td>\n",
       "      <td>FRANCE</td>\n",
       "      <td>_Z</td>\n",
       "      <td>_T</td>\n",
       "      <td>_T</td>\n",
       "      <td>_Z</td>\n",
       "      <td>_Z</td>\n",
       "      <td>I_ODD</td>\n",
       "      <td>2015</td>\n",
       "      <td>NA</td>\n",
       "    </tr>\n",
       "  </tbody>\n",
       "</table>\n",
       "</div>"
      ],
      "text/plain": [
       "     ODD INDICATEUR_DEVDUR UNIT_MEASURE  UNIT_MULT OBS_STATUS GEO GEO_OBJECT  \\\n",
       "0   ODD1             1.i1a           PT          0          A  FM     FRANCE   \n",
       "1   ODD3              3.i2           _Z          0          E   F     FRANCE   \n",
       "2   ODD2             2.i2f           PT          0          L   F     FRANCE   \n",
       "3   ODD1             1.i1a           PT          0          A  FM     FRANCE   \n",
       "4  ODD11             11.i1           PT          0          L  FM     FRANCE   \n",
       "\n",
       "  DEVDUR_COMPOSITE SEX     AGE EMPSTA  PCS TYPE_INDICATEUR_DEVDUR  \\\n",
       "0     NIVIEMED_S60  _T      _T     11   _T                  I_ODD   \n",
       "1    CONTAMIN_MOD4  _T      _T     _Z   _Z                  I_ODD   \n",
       "2               _Z  _T      _Z     _Z  1_2                  I_ODD   \n",
       "3     NIVIEMED_S60  _T  Y40T49     _T   _T                  I_ODD   \n",
       "4               _Z  _T      _T     _Z   _Z                  I_ODD   \n",
       "\n",
       "   TIME_PERIOD OBS_VALUE  \n",
       "0         2015       6.5  \n",
       "1         2021     255.0  \n",
       "2         2015        NA  \n",
       "3         2016      13.5  \n",
       "4         2015        NA  "
      ]
     },
     "execution_count": 46,
     "metadata": {},
     "output_type": "execute_result"
    }
   ],
   "source": [
    "data.head(5)"
   ]
  },
  {
   "cell_type": "code",
   "execution_count": 69,
   "id": "1ae4839e-d240-4b9a-807e-28062aa80738",
   "metadata": {},
   "outputs": [
    {
     "data": {
      "text/html": [
       "<div>\n",
       "<style scoped>\n",
       "    .dataframe tbody tr th:only-of-type {\n",
       "        vertical-align: middle;\n",
       "    }\n",
       "\n",
       "    .dataframe tbody tr th {\n",
       "        vertical-align: top;\n",
       "    }\n",
       "\n",
       "    .dataframe thead th {\n",
       "        text-align: right;\n",
       "    }\n",
       "</style>\n",
       "<table border=\"1\" class=\"dataframe\">\n",
       "  <thead>\n",
       "    <tr style=\"text-align: right;\">\n",
       "      <th></th>\n",
       "      <th>COD_VAR</th>\n",
       "      <th>LIB_VAR</th>\n",
       "      <th>COD_MOD</th>\n",
       "      <th>LIB_MOD</th>\n",
       "    </tr>\n",
       "  </thead>\n",
       "  <tbody>\n",
       "    <tr>\n",
       "      <th>0</th>\n",
       "      <td>AGE</td>\n",
       "      <td>Âge</td>\n",
       "      <td>Y18T75</td>\n",
       "      <td>De 18 à 75 ans</td>\n",
       "    </tr>\n",
       "    <tr>\n",
       "      <th>1</th>\n",
       "      <td>AGE</td>\n",
       "      <td>Âge</td>\n",
       "      <td>Y18T64</td>\n",
       "      <td>De 18 à 64 ans</td>\n",
       "    </tr>\n",
       "    <tr>\n",
       "      <th>2</th>\n",
       "      <td>AGE</td>\n",
       "      <td>Âge</td>\n",
       "      <td>_Z</td>\n",
       "      <td>Non applicable</td>\n",
       "    </tr>\n",
       "    <tr>\n",
       "      <th>3</th>\n",
       "      <td>AGE</td>\n",
       "      <td>Âge</td>\n",
       "      <td>Y15</td>\n",
       "      <td>15 ans</td>\n",
       "    </tr>\n",
       "    <tr>\n",
       "      <th>4</th>\n",
       "      <td>AGE</td>\n",
       "      <td>Âge</td>\n",
       "      <td>Y_LT14</td>\n",
       "      <td>Moins de 14 ans</td>\n",
       "    </tr>\n",
       "  </tbody>\n",
       "</table>\n",
       "</div>"
      ],
      "text/plain": [
       "  COD_VAR LIB_VAR COD_MOD          LIB_MOD\n",
       "0     AGE     Âge  Y18T75   De 18 à 75 ans\n",
       "1     AGE     Âge  Y18T64   De 18 à 64 ans\n",
       "2     AGE     Âge      _Z   Non applicable\n",
       "3     AGE     Âge     Y15           15 ans\n",
       "4     AGE     Âge  Y_LT14  Moins de 14 ans"
      ]
     },
     "execution_count": 69,
     "metadata": {},
     "output_type": "execute_result"
    }
   ],
   "source": [
    "meta.head(5) "
   ]
  },
  {
   "cell_type": "code",
   "execution_count": 86,
   "id": "e7a7d31a-9cb2-4f5b-8040-52ca8553ab74",
   "metadata": {},
   "outputs": [
    {
     "ename": "NameError",
     "evalue": "name 'path' is not defined",
     "output_type": "error",
     "traceback": [
      "\u001b[31m---------------------------------------------------------------------------\u001b[39m",
      "\u001b[31mNameError\u001b[39m                                 Traceback (most recent call last)",
      "\u001b[36mCell\u001b[39m\u001b[36m \u001b[39m\u001b[32mIn[86]\u001b[39m\u001b[32m, line 2\u001b[39m\n\u001b[32m      1\u001b[39m \u001b[38;5;66;03m## Sauvegarde des tables pour exploitation:\u001b[39;00m\n\u001b[32m----> \u001b[39m\u001b[32m2\u001b[39m data = \u001b[43msauvegarder\u001b[49m\u001b[43m(\u001b[49m\u001b[43mdata\u001b[49m\u001b[43m,\u001b[49m\u001b[43m \u001b[49m\u001b[33;43m\"\u001b[39;49m\u001b[33;43m../DATA\u001b[39;49m\u001b[33;43m\"\u001b[39;49m\u001b[43m)\u001b[49m\n",
      "\u001b[36mCell\u001b[39m\u001b[36m \u001b[39m\u001b[32mIn[85]\u001b[39m\u001b[32m, line 14\u001b[39m, in \u001b[36msauvegarder\u001b[39m\u001b[34m(df, dossier_sortie)\u001b[39m\n\u001b[32m     12\u001b[39m os.makedirs(dossier_sortie, exist_ok=\u001b[38;5;28;01mTrue\u001b[39;00m)\n\u001b[32m     13\u001b[39m chemin = os.path.join(dossier_sortie, \u001b[38;5;28mstr\u001b[39m(df))\n\u001b[32m---> \u001b[39m\u001b[32m14\u001b[39m df.to_csv(\u001b[43mpath\u001b[49m, index=\u001b[38;5;28;01mFalse\u001b[39;00m)\n",
      "\u001b[31mNameError\u001b[39m: name 'path' is not defined"
     ]
    }
   ],
   "source": [
    "## Sauvegarde des tables pour exploitation:\n",
    "data = tables_correspondances(meta), \"../DATA\")"
   ]
  },
  {
   "cell_type": "markdown",
   "id": "ed6ec19f-bea7-499d-b060-c634be8a5bf4",
   "metadata": {},
   "source": [
    "Transformation des données: "
   ]
  },
  {
   "cell_type": "code",
   "execution_count": 71,
   "id": "d16fc63a-d152-4690-9c12-ce6030d5b6b0",
   "metadata": {},
   "outputs": [
    {
     "name": "stdout",
     "output_type": "stream",
     "text": [
      "Correspondances 'AGE' enregistrée : ../DATA/AGE_correspondance.csv\n",
      "Correspondances 'DEVDUR_COMPOSITE' enregistrée : ../DATA/DEVDUR_COMPOSITE_correspondance.csv\n",
      "Correspondances 'EMPSTA' enregistrée : ../DATA/EMPSTA_correspondance.csv\n",
      "Correspondances 'INDICATEUR_DEVDUR' enregistrée : ../DATA/INDICATEUR_DEVDUR_correspondance.csv\n",
      "Correspondances 'OBS_STATUS' enregistrée : ../DATA/OBS_STATUS_correspondance.csv\n",
      "Correspondances 'ODD' enregistrée : ../DATA/ODD_correspondance.csv\n",
      "Correspondances 'PCS' enregistrée : ../DATA/PCS_correspondance.csv\n",
      "Correspondances 'SEX' enregistrée : ../DATA/SEX_correspondance.csv\n",
      "Correspondances 'TIME_PERIOD' enregistrée : ../DATA/TIME_PERIOD_correspondance.csv\n",
      "Correspondances 'TYPE_INDICATEUR_DEVDUR' enregistrée : ../DATA/TYPE_INDICATEUR_DEVDUR_correspondance.csv\n",
      "Correspondances 'UNIT_MEASURE' enregistrée : ../DATA/UNIT_MEASURE_correspondance.csv\n",
      "Correspondances 'UNIT_MULT' enregistrée : ../DATA/UNIT_MULT_correspondance.csv\n",
      "Correspondances 'GEO' enregistrée : ../DATA/GEO_correspondance.csv\n"
     ]
    }
   ],
   "source": [
    "correspondances = sauvegarder_tables(tables_correspondances(meta), \"../DATA\")"
   ]
  }
 ],
 "metadata": {
  "kernelspec": {
   "display_name": "Python 3 (ipykernel)",
   "language": "python",
   "name": "python3"
  },
  "language_info": {
   "codemirror_mode": {
    "name": "ipython",
    "version": 3
   },
   "file_extension": ".py",
   "mimetype": "text/x-python",
   "name": "python",
   "nbconvert_exporter": "python",
   "pygments_lexer": "ipython3",
   "version": "3.12.9"
  }
 },
 "nbformat": 4,
 "nbformat_minor": 5
}
