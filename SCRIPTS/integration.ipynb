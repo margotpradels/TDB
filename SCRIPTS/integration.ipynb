{
 "cells": [
  {
   "cell_type": "markdown",
   "id": "1cb0f9fd-1d8b-445e-bfff-1698a581e34d",
   "metadata": {},
   "source": [
    "Import des librairies nécessaires: "
   ]
  },
  {
   "cell_type": "code",
   "execution_count": 34,
   "id": "1537f76f-db5b-49ec-8b70-ac1b9591926c",
   "metadata": {},
   "outputs": [],
   "source": [
    "import pandas as pd\n",
    "import os"
   ]
  },
  {
   "cell_type": "markdown",
   "id": "6dfe241a-4740-404e-a4a4-62e9ac5949cc",
   "metadata": {},
   "source": [
    "Intégration et nettoyage des données: "
   ]
  },
  {
   "cell_type": "code",
   "execution_count": 76,
   "id": "74cb8fea-71ee-42cb-8936-d39325662cd2",
   "metadata": {},
   "outputs": [],
   "source": [
    "## Définition de fonction d'intégration\n",
    "def charger(path, sep=\";\"):\n",
    "    df = pd.read_csv(path, sep=sep)\n",
    "    return df\n",
    "\n",
    "def nettoyer(df):\n",
    "    df = df.drop_duplicates()\n",
    "    df = df.fillna(\"NA\")\n",
    "    return df\n",
    "\n",
    "def sauvegarder(df, path):\n",
    "    os.makedirs(os.path.dirname(path), exist_ok=True)\n",
    "    df.to_excel(path, index=False)\n"
   ]
  },
  {
   "cell_type": "code",
   "execution_count": 75,
   "id": "03149b38-72b1-418d-9304-bfe31970490a",
   "metadata": {},
   "outputs": [],
   "source": [
    "## Chargement des données\n",
    "data = nettoyer(charger(\"DS_DEVDUR_data.csv\"))\n",
    "meta = nettoyer(charger(\"DS_DEVDUR_metadata.csv\"))"
   ]
  },
  {
   "cell_type": "markdown",
   "id": "ed6ec19f-bea7-499d-b060-c634be8a5bf4",
   "metadata": {},
   "source": [
    "Transformation des données: "
   ]
  },
  {
   "cell_type": "code",
   "execution_count": 62,
   "id": "e178c33c-8e92-4182-b270-d1406b2f138c",
   "metadata": {},
   "outputs": [],
   "source": [
    "## Création des tables de correspondances\n",
    "\n",
    "def tables_correspondances(meta):\n",
    "    tables = {}\n",
    "    variables = meta['COD_VAR'].unique()\n",
    "\n",
    "    for var in variables:\n",
    "        sous_table = meta[meta['COD_VAR'] == var]\n",
    "        correspondance = sous_table[['COD_MOD', 'LIB_MOD']].drop_duplicates()\n",
    "        tables[var] = correspondance\n",
    "    return tables\n",
    "\n",
    "def sauvegarder_tables(tables, dossier_sortie):\n",
    "    os.makedirs(dossier_sortie, exist_ok=True)\n",
    "\n",
    "    for var, table in tables.items():\n",
    "        nom_fichier = f\"{var}_correspondance.csv\"\n",
    "        chemin = os.path.join(dossier_sortie, nom_fichier)\n",
    "        table.to_csv(chemin, index=False)\n",
    "        print(f\"Correspondances '{var}' enregistrée : {chemin}\")"
   ]
  },
  {
   "cell_type": "code",
   "execution_count": 65,
   "id": "d16fc63a-d152-4690-9c12-ce6030d5b6b0",
   "metadata": {},
   "outputs": [
    {
     "name": "stdout",
     "output_type": "stream",
     "text": [
      "Correspondances 'AGE' enregistrée : DATA/AGE_correspondance.csv\n",
      "Correspondances 'DEVDUR_COMPOSITE' enregistrée : DATA/DEVDUR_COMPOSITE_correspondance.csv\n",
      "Correspondances 'EMPSTA' enregistrée : DATA/EMPSTA_correspondance.csv\n",
      "Correspondances 'INDICATEUR_DEVDUR' enregistrée : DATA/INDICATEUR_DEVDUR_correspondance.csv\n",
      "Correspondances 'OBS_STATUS' enregistrée : DATA/OBS_STATUS_correspondance.csv\n",
      "Correspondances 'ODD' enregistrée : DATA/ODD_correspondance.csv\n",
      "Correspondances 'PCS' enregistrée : DATA/PCS_correspondance.csv\n",
      "Correspondances 'SEX' enregistrée : DATA/SEX_correspondance.csv\n",
      "Correspondances 'TIME_PERIOD' enregistrée : DATA/TIME_PERIOD_correspondance.csv\n",
      "Correspondances 'TYPE_INDICATEUR_DEVDUR' enregistrée : DATA/TYPE_INDICATEUR_DEVDUR_correspondance.csv\n",
      "Correspondances 'UNIT_MEASURE' enregistrée : DATA/UNIT_MEASURE_correspondance.csv\n",
      "Correspondances 'UNIT_MULT' enregistrée : DATA/UNIT_MULT_correspondance.csv\n",
      "Correspondances 'GEO' enregistrée : DATA/GEO_correspondance.csv\n"
     ]
    }
   ],
   "source": [
    "correspondances = sauvegarder_tables(tables_correspondances(meta), \"DATA\")"
   ]
  }
 ],
 "metadata": {
  "kernelspec": {
   "display_name": "Python 3 (ipykernel)",
   "language": "python",
   "name": "python3"
  },
  "language_info": {
   "codemirror_mode": {
    "name": "ipython",
    "version": 3
   },
   "file_extension": ".py",
   "mimetype": "text/x-python",
   "name": "python",
   "nbconvert_exporter": "python",
   "pygments_lexer": "ipython3",
   "version": "3.12.9"
  }
 },
 "nbformat": 4,
 "nbformat_minor": 5
}
