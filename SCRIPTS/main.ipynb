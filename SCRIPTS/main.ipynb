{
 "cells": [
  {
   "cell_type": "markdown",
   "id": "90943a9e-7537-4342-a70c-c255f3513450",
   "metadata": {},
   "source": [
    "## Création du fichier résultat \n",
    "\n",
    "L'objectif est d'obtenir deux tableaux (un par feuille) qui regroupent: \n",
    "1- une vision globale sur les Objectifs de Développement Durable, \n",
    "2- une fiche indicateur dimensionnée sur un filtre dynamique obligatoire."
   ]
  },
  {
   "cell_type": "markdown",
   "id": "6207aab4-6ad6-4e4c-97dd-a5c99b9ad601",
   "metadata": {},
   "source": [
    "Import des librairies"
   ]
  },
  {
   "cell_type": "code",
   "execution_count": 33,
   "id": "2b14c9a6-20a1-41c0-b4ad-45cf096573f3",
   "metadata": {},
   "outputs": [
    {
     "name": "stdout",
     "output_type": "stream",
     "text": [
      "3.1.3\n"
     ]
    }
   ],
   "source": [
    "import pandas as pd\n",
    "import openpyxl\n",
    "import numpy as np\n",
    "import matplotlib.pyplot as plt\n",
    "import seaborn as sns\n",
    "import os\n",
    "import subprocess\n",
    "import papermill as pm\n",
    "\n",
    "print(openpyxl.__version__)"
   ]
  },
  {
   "cell_type": "markdown",
   "id": "d265e2bc-51cd-4e9d-aa2c-19620dc56ff2",
   "metadata": {},
   "source": [
    "Vérification de l'existence du fichier Excel de résultat "
   ]
  },
  {
   "cell_type": "code",
   "execution_count": 39,
   "id": "0189991c-5c3b-4d4b-acfb-762495ebb910",
   "metadata": {},
   "outputs": [
    {
     "name": "stdout",
     "output_type": "stream",
     "text": [
      "Fichier trouvé.\n"
     ]
    }
   ],
   "source": [
    "from openpyxl import Workbook\n",
    "\n",
    "path_file = '../OUTPUT/TDB_ODD.xlsx'\n",
    "\n",
    "# Si le fichier n'existe pas, on le crée grâce au script d'intégration: \n",
    "notebook_path = '../SCRIPTS/integration.ipynb'\n",
    "\n",
    "if not os.path.exists(path_file):\n",
    "    try:\n",
    "        pm.execute_notebook(\n",
    "            notebook_path,\n",
    "            '../SCRIPTS/TDB_ODD.ipynb',\n",
    "            kernel_name='python3'\n",
    "        )\n",
    "        print(\"Fichier créé grâce au notebook d'intégration.\")\n",
    "    except Exception as e:\n",
    "        print(\"Erreur lors de l'exécution du notebook d'intégration.\")\n",
    "        print(e)\n",
    "else:\n",
    "    print(\"Fichier trouvé.\")"
   ]
  },
  {
   "cell_type": "markdown",
   "id": "6c3b6735-41f8-4eb6-b7c1-d7c99a530809",
   "metadata": {},
   "source": [
    "## Tableau bilan \n",
    "Elements du tableau: \n",
    "    Comparer les quantités d'action, ou l'effort cumulé, sur chaque ODD et par type d'indicateur. \n",
    "    Identifier les sujets cibles principaux de développement durable. \n",
    "    Identifier les indicateurs les plus représentés (indifféremment de l'ODD concerné). \n",
    "    Identifier la répartition du public concerné (sex, âge).\n",
    "    Identifier la répartition des actions par geolocalisation. "
   ]
  },
  {
   "cell_type": "code",
   "execution_count": 50,
   "id": "a67e21fc-9438-467b-9bca-13fd20b6a091",
   "metadata": {},
   "outputs": [
    {
     "name": "stdout",
     "output_type": "stream",
     "text": [
      "Feuille trouvée.\n"
     ]
    }
   ],
   "source": [
    "# Chargement feuille bilan  \n",
    "wb = load_workbook(path_file)\n",
    "\n",
    "if 'BILAN' not in wb.sheetnames:\n",
    "    wb.create_sheet('BILAN')\n",
    "    wb.save(path_file)\n",
    "    print(\"Feuille bilan créée.\")\n",
    "else: \n",
    "    print(\"Feuille trouvée.\")\n",
    "\n",
    "bilan = wb['BILAN']"
   ]
  },
  {
   "cell_type": "code",
   "execution_count": 57,
   "id": "4b38de82-5a72-4db9-953e-a63763fbc505",
   "metadata": {},
   "outputs": [],
   "source": [
    "# Liste de valeurs uniques: \n",
    "wb = load_workbook(path_file)\n",
    "ws = wb['BILAN']\n",
    "ws['A2'] = '=UNIQUE(DATA!B:B)'\n",
    "wb.save(path_file)\n",
    "wb.close()"
   ]
  },
  {
   "cell_type": "code",
   "execution_count": null,
   "id": "394599da-a8af-46ce-9d8f-3aa9c2bf96f7",
   "metadata": {},
   "outputs": [],
   "source": [
    "# Tableau dynamique sur le nombre d'occurrence par ODD\n",
    "# formule Excel: ="
   ]
  }
 ],
 "metadata": {
  "kernelspec": {
   "display_name": "Python 3 (ipykernel)",
   "language": "python",
   "name": "python3"
  },
  "language_info": {
   "codemirror_mode": {
    "name": "ipython",
    "version": 3
   },
   "file_extension": ".py",
   "mimetype": "text/x-python",
   "name": "python",
   "nbconvert_exporter": "python",
   "pygments_lexer": "ipython3",
   "version": "3.12.9"
  }
 },
 "nbformat": 4,
 "nbformat_minor": 5
}
