{
 "cells": [
  {
   "cell_type": "markdown",
   "id": "90943a9e-7537-4342-a70c-c255f3513450",
   "metadata": {},
   "source": [
    "## Création du fichier résultat \n",
    "\n",
    "L'objectif est d'obtenir deux tableaux (un par feuille) qui regroupent: \n",
    "1- une vision globale sur les Objectifs de Développement Durable, \n",
    "2- une fiche indicateur dimensionnée sur un filtre dynamique obligatoire."
   ]
  },
  {
   "cell_type": "markdown",
   "id": "6207aab4-6ad6-4e4c-97dd-a5c99b9ad601",
   "metadata": {},
   "source": [
    "Import des librairies\n",
    "\n",
    "Pour des raisons de reproductabilité, on installe la version 3.1.3 de openpyxl grâce à la commande suivante: "
   ]
  },
  {
   "cell_type": "code",
   "execution_count": 1,
   "id": "f3ba83e0-c66c-4d22-a1e6-049808fc92ad",
   "metadata": {},
   "outputs": [
    {
     "name": "stdout",
     "output_type": "stream",
     "text": [
      "Collecting openpyxl==3.1.3\n",
      "  Downloading openpyxl-3.1.3-py2.py3-none-any.whl.metadata (2.5 kB)\n",
      "Collecting et-xmlfile (from openpyxl==3.1.3)\n",
      "  Downloading et_xmlfile-2.0.0-py3-none-any.whl.metadata (2.7 kB)\n",
      "Downloading openpyxl-3.1.3-py2.py3-none-any.whl (251 kB)\n",
      "Downloading et_xmlfile-2.0.0-py3-none-any.whl (18 kB)\n",
      "Installing collected packages: et-xmlfile, openpyxl\n",
      "\u001b[2K   \u001b[90m━━━━━━━━━━━━━━━━━━━━━━━━━━━━━━━━━━━━━━━━\u001b[0m \u001b[32m2/2\u001b[0m [openpyxl]1/2\u001b[0m [openpyxl]\n",
      "\u001b[1A\u001b[2KSuccessfully installed et-xmlfile-2.0.0 openpyxl-3.1.3\n",
      "Note: you may need to restart the kernel to use updated packages.\n"
     ]
    }
   ],
   "source": [
    "pip install openpyxl==3.1.3"
   ]
  },
  {
   "cell_type": "code",
   "execution_count": 2,
   "id": "ccea05a3-6f15-4ff6-ba12-80b0eeb34a38",
   "metadata": {},
   "outputs": [
    {
     "name": "stdout",
     "output_type": "stream",
     "text": [
      "Collecting papermill\n",
      "  Downloading papermill-2.6.0-py3-none-any.whl.metadata (13 kB)\n",
      "Requirement already satisfied: click in /usr/local/lib/python3.12/site-packages (from papermill) (8.2.1)\n",
      "Requirement already satisfied: pyyaml in /usr/local/lib/python3.12/site-packages (from papermill) (6.0.2)\n",
      "Requirement already satisfied: nbformat>=5.2.0 in /usr/local/lib/python3.12/site-packages (from papermill) (5.10.4)\n",
      "Requirement already satisfied: nbclient>=0.2.0 in /usr/local/lib/python3.12/site-packages (from papermill) (0.10.2)\n",
      "Requirement already satisfied: tqdm>=4.32.2 in /usr/local/lib/python3.12/site-packages (from papermill) (4.67.1)\n",
      "Requirement already satisfied: requests in /usr/local/lib/python3.12/site-packages (from papermill) (2.32.3)\n",
      "Collecting entrypoints (from papermill)\n",
      "  Downloading entrypoints-0.4-py3-none-any.whl.metadata (2.6 kB)\n",
      "Collecting tenacity>=5.0.2 (from papermill)\n",
      "  Downloading tenacity-9.1.2-py3-none-any.whl.metadata (1.2 kB)\n",
      "Collecting ansicolors (from papermill)\n",
      "  Downloading ansicolors-1.1.8-py2.py3-none-any.whl.metadata (9.0 kB)\n",
      "Requirement already satisfied: aiohttp>=3.9.0 in /usr/local/lib/python3.12/site-packages (from papermill) (3.12.6)\n",
      "Requirement already satisfied: aiohappyeyeballs>=2.5.0 in /usr/local/lib/python3.12/site-packages (from aiohttp>=3.9.0->papermill) (2.6.1)\n",
      "Requirement already satisfied: aiosignal>=1.1.2 in /usr/local/lib/python3.12/site-packages (from aiohttp>=3.9.0->papermill) (1.3.2)\n",
      "Requirement already satisfied: attrs>=17.3.0 in /usr/local/lib/python3.12/site-packages (from aiohttp>=3.9.0->papermill) (25.3.0)\n",
      "Requirement already satisfied: frozenlist>=1.1.1 in /usr/local/lib/python3.12/site-packages (from aiohttp>=3.9.0->papermill) (1.6.0)\n",
      "Requirement already satisfied: multidict<7.0,>=4.5 in /usr/local/lib/python3.12/site-packages (from aiohttp>=3.9.0->papermill) (6.4.4)\n",
      "Requirement already satisfied: propcache>=0.2.0 in /usr/local/lib/python3.12/site-packages (from aiohttp>=3.9.0->papermill) (0.3.1)\n",
      "Requirement already satisfied: yarl<2.0,>=1.17.0 in /usr/local/lib/python3.12/site-packages (from aiohttp>=3.9.0->papermill) (1.20.0)\n",
      "Requirement already satisfied: idna>=2.0 in /usr/local/lib/python3.12/site-packages (from yarl<2.0,>=1.17.0->aiohttp>=3.9.0->papermill) (3.10)\n",
      "Requirement already satisfied: jupyter-client>=6.1.12 in /usr/local/lib/python3.12/site-packages (from nbclient>=0.2.0->papermill) (8.6.3)\n",
      "Requirement already satisfied: jupyter-core!=5.0.*,>=4.12 in /usr/local/lib/python3.12/site-packages (from nbclient>=0.2.0->papermill) (5.8.1)\n",
      "Requirement already satisfied: traitlets>=5.4 in /usr/local/lib/python3.12/site-packages (from nbclient>=0.2.0->papermill) (5.14.3)\n",
      "Requirement already satisfied: python-dateutil>=2.8.2 in /usr/local/lib/python3.12/site-packages (from jupyter-client>=6.1.12->nbclient>=0.2.0->papermill) (2.9.0.post0)\n",
      "Requirement already satisfied: pyzmq>=23.0 in /usr/local/lib/python3.12/site-packages (from jupyter-client>=6.1.12->nbclient>=0.2.0->papermill) (26.4.0)\n",
      "Requirement already satisfied: tornado>=6.2 in /usr/local/lib/python3.12/site-packages (from jupyter-client>=6.1.12->nbclient>=0.2.0->papermill) (6.5.1)\n",
      "Requirement already satisfied: platformdirs>=2.5 in /usr/local/lib/python3.12/site-packages (from jupyter-core!=5.0.*,>=4.12->nbclient>=0.2.0->papermill) (4.3.8)\n",
      "Requirement already satisfied: fastjsonschema>=2.15 in /usr/local/lib/python3.12/site-packages (from nbformat>=5.2.0->papermill) (2.21.1)\n",
      "Requirement already satisfied: jsonschema>=2.6 in /usr/local/lib/python3.12/site-packages (from nbformat>=5.2.0->papermill) (4.24.0)\n",
      "Requirement already satisfied: jsonschema-specifications>=2023.03.6 in /usr/local/lib/python3.12/site-packages (from jsonschema>=2.6->nbformat>=5.2.0->papermill) (2025.4.1)\n",
      "Requirement already satisfied: referencing>=0.28.4 in /usr/local/lib/python3.12/site-packages (from jsonschema>=2.6->nbformat>=5.2.0->papermill) (0.36.2)\n",
      "Requirement already satisfied: rpds-py>=0.7.1 in /usr/local/lib/python3.12/site-packages (from jsonschema>=2.6->nbformat>=5.2.0->papermill) (0.25.1)\n",
      "Requirement already satisfied: six>=1.5 in /usr/local/lib/python3.12/site-packages (from python-dateutil>=2.8.2->jupyter-client>=6.1.12->nbclient>=0.2.0->papermill) (1.17.0)\n",
      "Requirement already satisfied: typing-extensions>=4.4.0 in /usr/local/lib/python3.12/site-packages (from referencing>=0.28.4->jsonschema>=2.6->nbformat>=5.2.0->papermill) (4.13.2)\n",
      "Requirement already satisfied: charset-normalizer<4,>=2 in /usr/local/lib/python3.12/site-packages (from requests->papermill) (3.4.2)\n",
      "Requirement already satisfied: urllib3<3,>=1.21.1 in /usr/local/lib/python3.12/site-packages (from requests->papermill) (2.4.0)\n",
      "Requirement already satisfied: certifi>=2017.4.17 in /usr/local/lib/python3.12/site-packages (from requests->papermill) (2025.4.26)\n",
      "Downloading papermill-2.6.0-py3-none-any.whl (38 kB)\n",
      "Downloading tenacity-9.1.2-py3-none-any.whl (28 kB)\n",
      "Downloading ansicolors-1.1.8-py2.py3-none-any.whl (13 kB)\n",
      "Downloading entrypoints-0.4-py3-none-any.whl (5.3 kB)\n",
      "Installing collected packages: ansicolors, tenacity, entrypoints, papermill\n",
      "\u001b[2K   \u001b[90m━━━━━━━━━━━━━━━━━━━━━━━━━━━━━━━━━━━━━━━━\u001b[0m \u001b[32m4/4\u001b[0m [papermill]\n",
      "\u001b[1A\u001b[2KSuccessfully installed ansicolors-1.1.8 entrypoints-0.4 papermill-2.6.0 tenacity-9.1.2\n",
      "Note: you may need to restart the kernel to use updated packages.\n"
     ]
    }
   ],
   "source": [
    "pip install papermill"
   ]
  },
  {
   "cell_type": "code",
   "execution_count": 3,
   "id": "2b14c9a6-20a1-41c0-b4ad-45cf096573f3",
   "metadata": {},
   "outputs": [
    {
     "name": "stdout",
     "output_type": "stream",
     "text": [
      "3.1.3\n"
     ]
    }
   ],
   "source": [
    "import pandas as pd\n",
    "import openpyxl\n",
    "from openpyxl import Workbook   \n",
    "from openpyxl.utils.dataframe import dataframe_to_rows\n",
    "from openpyxl import load_workbook \n",
    "from openpyxl.utils import get_column_letter\n",
    "from openpyxl.styles import PatternFill\n",
    "from openpyxl.chart import BarChart, Reference\n",
    "from openpyxl.styles import Font, Border, Side\n",
    "from openpyxl.styles import Alignment\n",
    "from openpyxl.chart.label import DataLabelList                                                                                                                                                      \n",
    "from openpyxl.worksheet.datavalidation import DataValidation\n",
    "from openpyxl.worksheet.formula import ArrayFormula\n",
    "from openpyxl.utils import quote_sheetname\n",
    "from openpyxl.utils.cell import coordinate_from_string, column_index_from_string\n",
    "from openpyxl.worksheet.worksheet import Worksheet\n",
    "from openpyxl.styles import Alignment, PatternFill\n",
    "from openpyxl.worksheet.datavalidation import DataValidation\n",
    "import numpy as np\n",
    "import matplotlib.pyplot as plt\n",
    "import seaborn as sns\n",
    "import os\n",
    "import subprocess\n",
    "import papermill as pm\n",
    "\n",
    "print(openpyxl.__version__)"
   ]
  },
  {
   "cell_type": "markdown",
   "id": "d265e2bc-51cd-4e9d-aa2c-19620dc56ff2",
   "metadata": {},
   "source": [
    "Vérification de l'existence du fichier Excel de résultat "
   ]
  },
  {
   "cell_type": "code",
   "execution_count": 4,
   "id": "0189991c-5c3b-4d4b-acfb-762495ebb910",
   "metadata": {},
   "outputs": [
    {
     "name": "stdout",
     "output_type": "stream",
     "text": [
      "Fichier trouvé.\n"
     ]
    }
   ],
   "source": [
    "from openpyxl import Workbook\n",
    "\n",
    "path_file = '../OUTPUT/TDB_ODD.xlsx'\n",
    "\n",
    "# Si le fichier n'existe pas, on le crée grâce au script d'intégration: \n",
    "notebook_path = '../SCRIPTS/integration.ipynb'\n",
    "\n",
    "if not os.path.exists(path_file):\n",
    "    try:\n",
    "        pm.execute_notebook(\n",
    "            notebook_path,\n",
    "            '../SCRIPTS/TDB_ODD.ipynb',\n",
    "            kernel_name='python3'\n",
    "        )\n",
    "        print(\"Fichier créé grâce au notebook d'intégration.\")\n",
    "    except Exception as e:\n",
    "        print(\"Erreur lors de l'exécution du notebook d'intégration.\")\n",
    "        print(e)\n",
    "else:\n",
    "    print(\"Fichier trouvé.\")"
   ]
  },
  {
   "cell_type": "code",
   "execution_count": 5,
   "id": "67fcaa64-8ad0-477b-82d8-adac891b0908",
   "metadata": {},
   "outputs": [],
   "source": [
    "# Chargement des données \n",
    "data = pd.read_csv(\"../DS_DEVDUR_data.csv\", sep =\";\")\n",
    "metadata = pd.read_csv(\"../DS_DEVDUR_metadata.csv\", sep = \";\")"
   ]
  },
  {
   "cell_type": "markdown",
   "id": "6c3b6735-41f8-4eb6-b7c1-d7c99a530809",
   "metadata": {},
   "source": [
    "## Tableau bilan \n",
    "Elements du tableau: \n",
    "    Comparer les quantités d'action, ou l'effort cumulé, sur chaque ODD et par type d'indicateur. \n",
    "    Identifier les sujets cibles principaux de développement durable. \n",
    "    Identifier les indicateurs les plus représentés (indifféremment de l'ODD concerné). \n",
    "    Identifier la répartition du public concerné (sex, âge).\n",
    "    Identifier la répartition des actions par geolocalisation. "
   ]
  },
  {
   "cell_type": "code",
   "execution_count": 6,
   "id": "a67e21fc-9438-467b-9bca-13fd20b6a091",
   "metadata": {},
   "outputs": [
    {
     "name": "stdout",
     "output_type": "stream",
     "text": [
      "Feuille bilan trouvée.\n",
      "Feuille data bilan trouvée.\n"
     ]
    }
   ],
   "source": [
    "# Chargement feuille bilan  \n",
    "wb = load_workbook(path_file)\n",
    "\n",
    "if 'BILAN' not in wb.sheetnames:\n",
    "    wb.create_sheet('BILAN')\n",
    "    wb.save(path_file)\n",
    "    print(\"Feuille bilan créée.\")\n",
    "else: \n",
    "    print(\"Feuille bilan trouvée.\")\n",
    "\n",
    "if 'DATA_BILAN' not in wb.sheetnames:\n",
    "    wb.create_sheet('DATA_BILAN')\n",
    "    wb.save(path_file)\n",
    "    print(\"Feuille data bilan créée.\")\n",
    "else: \n",
    "    print(\"Feuille data bilan trouvée.\")\n",
    "\n",
    "bilan = wb['BILAN']\n",
    "data_bilan = wb['DATA_BILAN']"
   ]
  },
  {
   "cell_type": "code",
   "execution_count": 7,
   "id": "8ae492c9-a7c6-47b4-8954-2c193fd190aa",
   "metadata": {},
   "outputs": [
    {
     "data": {
      "text/plain": [
       "{'len_ODD': 18,\n",
       " 'len_INDICATEUR_DEVDUR': 176,\n",
       " 'len_UNIT_MEASURE': 21,\n",
       " 'len_OBS_STATUS': 7,\n",
       " 'len_DEVDUR_COMPOSITE': 193,\n",
       " 'len_TYPE_INDICATEUR_DEVDUR': 4,\n",
       " 'len_TIME_PERIOD': 51}"
      ]
     },
     "execution_count": 7,
     "metadata": {},
     "output_type": "execute_result"
    }
   ],
   "source": [
    "# Calcul des longueurs pour chaque colonnes à exploiter \n",
    "list_col = ['ODD', 'INDICATEUR_DEVDUR', 'UNIT_MEASURE', 'OBS_STATUS','DEVDUR_COMPOSITE','TYPE_INDICATEUR_DEVDUR','TIME_PERIOD']\n",
    "len_col ={}\n",
    "for col in list_col:\n",
    "    len_col[f\"len_{col}\"] = len(data[col].unique())+1 # on rajoute +1 car python commence à 0\n",
    "len_col"
   ]
  },
  {
   "cell_type": "markdown",
   "id": "f816b7b8-3ee7-4e3c-935f-bf40a299c4c4",
   "metadata": {},
   "source": [
    "Afin de pouvoir automatiser le traitement de manière à le rendre accessible aux métiers, il est nécessaire de produire des 'tableaux' propres contenant les modalités de chaque variable sur lesquelles se baseront les analyses par la suite. \n",
    "\n",
    "Je produis donc ci dessous des listes grâce aux formules Excel UNIQUE() et TRIER(). Les données ont précédemment été traitées pour ne plus apparaître sous forme de libellé codé, mais bien sous une forme explicite compréhensible et lisible pour les utilisateurs."
   ]
  },
  {
   "cell_type": "code",
   "execution_count": 8,
   "id": "95901b44-c118-47ed-87b3-1cdc763d3545",
   "metadata": {},
   "outputs": [],
   "source": [
    "# Création d'une feuille d'index regroupant les valeurs de chaque colonne: \n",
    "## TODO >> Enlever les lignes de titre des listes produites (skip) // Avoir les libellés plutot que les codes dans les listes \n",
    "\n",
    "if 'INDEX' not in wb.sheetnames:\n",
    "    index = wb.create_sheet('INDEX')\n",
    "else:\n",
    "    index = wb['INDEX']\n",
    "\n",
    "# On remplit la feuille index à l'aide de formules =TRIER(UNIQUE()) et de l'extension ArrayFormula() qui permet d'afficher des résultats en liste:\n",
    "formula = \"=_xlfn.SORT(_xlfn.UNIQUE(DATA!A:A))\"\n",
    "index['A1'] = \"Liste des ODD\"\n",
    "index['A2'] = ArrayFormula(f\"A2:A{len_col['len_ODD']}\", formula) #ODD\n",
    "\n",
    "formula = \"=_xlfn.SORT(_xlfn.UNIQUE(DATA!B:B))\"\n",
    "index['B1'] = \"Liste des Indicateurs de DD\"\n",
    "index['B2'] = ArrayFormula(f\"B2:B{len_col['len_INDICATEUR_DEVDUR']}\", formula) #Indicateurs\n",
    "\n",
    "formula = \"=_xlfn.SORT(_xlfn.UNIQUE(DATA!H:H))\"\n",
    "index['C1'] = \"Liste des Cibles de DD\"\n",
    "index['C2'] = ArrayFormula(f\"C2:C{len_col['len_DEVDUR_COMPOSITE']}\", formula) #Cibles\n",
    "\n",
    "formula = \"=_xlfn.SORT(_xlfn.UNIQUE(DATA!N:N))\"\n",
    "index['D1'] = \"Année\"\n",
    "index['D2'] = ArrayFormula(f\"D2:D{len_col['len_TIME_PERIOD']}\", formula) #Années\n",
    "\n",
    "wb.save(path_file)\n",
    "wb.close()"
   ]
  },
  {
   "cell_type": "markdown",
   "id": "449d82d8-cd68-4254-9c2b-ac1d5a3b6beb",
   "metadata": {},
   "source": [
    "Evolution des actions menées sur les ODD: \n",
    "1- Tbleau -- Formule: nb.si(time_period = time_period)\n",
    "2- Graohique -- utiliser le tableau créé pour avoir l'évolution des ODD dans le temps. "
   ]
  },
  {
   "cell_type": "code",
   "execution_count": 17,
   "id": "427d158f-3ba9-41bc-a41e-1a760c0b7b0c",
   "metadata": {},
   "outputs": [
    {
     "data": {
      "text/plain": [
       "<bound method Workbook.close of <openpyxl.workbook.workbook.Workbook object at 0x7f67a47e3ce0>>"
      ]
     },
     "execution_count": 17,
     "metadata": {},
     "output_type": "execute_result"
    }
   ],
   "source": [
    "\n",
    "bilan['C5'] = '=COUNTIF(DATA!N:N, B5)'\n",
    "bilan['B5'] = \"2020\"\n",
    "\n",
    "bilan['C6'] = '=COUNTIF(DATA!N:N, B6)'\n",
    "bilan['B6'] = \"2021\"\n",
    "\n",
    "bilan['C7'] = '=COUNTIF(DATA!N:N, B7)'\n",
    "bilan['B7'] = \"2022\"\n",
    "\n",
    "bilan['C8'] = '=COUNTIF(DATA!N:N, B8)'\n",
    "bilan['B8'] = \"2023\"\n",
    "\n",
    "wb.save(path_file)\n",
    "wb.close\n",
    "\n"
   ]
  },
  {
   "cell_type": "markdown",
   "id": "3107c07d-07db-4988-8e5d-7a511873b284",
   "metadata": {},
   "source": [
    "Ces listes créées, je génère les filtres qui détermineront le périmètre d'analyse de l'affichage du tableau de bord 'BILAN'. \n",
    "\n",
    "Filtres: \n",
    "Année: TIME_PERIOD\n",
    "ODD: ODD\n",
    "Localisation: GEO"
   ]
  },
  {
   "cell_type": "code",
   "execution_count": 12,
   "id": "ff2a7671-5ba1-44dd-9b9b-b205333ba907",
   "metadata": {},
   "outputs": [],
   "source": [
    "wb = load_workbook(path_file)\n",
    "\n",
    "# Ré initialisation des éléments ( TODO à retirer si nn nécessaire)\n",
    "if 'BILAN' not in wb.sheetnames:\n",
    "       bilan = wb.create_sheet('BILAN')\n",
    "\n",
    "index = wb['INDEX']\n",
    "bilan = wb['BILAN']\n",
    "\n",
    "# Retirer la grille ( TODO à retirer si nn nécessaire)\n",
    "# bilan.sheet_view.showGridLines = False \n",
    "\n",
    "# Filtre pour les années\n",
    "titre_f1 = bilan['A1']\n",
    "titre_f1.value = 'Année'\n",
    "titre_f1.alignment  = Alignment(horizontal='center', vertical='center')\n",
    "titre_f1.fill = PatternFill(start_color='00C0C0C0', end_color='00C0C0C0', fill_type='solid')\n",
    "\n",
    "bilan.merge_cells(start_row=1, \n",
    "                       start_column=1, \n",
    "                       end_row=2, \n",
    "                       end_column=2)\n",
    "\n",
    "val_F1 = bilan['C1']\n",
    "val_F1.value = 2020\n",
    "val_F1.alignment  = Alignment(horizontal='center', vertical='center')\n",
    "val_F1.fill = PatternFill(start_color='00C0C0C0', end_color='00C0C0C0', fill_type='solid')\n",
    "\n",
    "\n",
    "bilan.merge_cells(start_row=3, \n",
    "                       start_column=1,\n",
    "                       end_row=4,\n",
    "                       end_column=2)\n",
    "\n",
    "formula = f\"='INDEX'!$D$1:$D${len_col['len_TIME_PERIOD']}\"\n",
    "\n",
    "#Ajouter la liste de validation pour créer le filtre\n",
    "dv = DataValidation(type='list', formula1=formula)\n",
    "bilan.add_data_validation(dv)\n",
    "coord_filter_year = 'C1'\n",
    "dv.add(coord_filter_year)\n",
    "\n",
    "wb.save(path_file)\n",
    "wb.close()"
   ]
  },
  {
   "cell_type": "code",
   "execution_count": null,
   "id": "1ddb571f-9fad-47f5-a601-d2843191d60e",
   "metadata": {},
   "outputs": [],
   "source": [
    "\"\"\"\n",
    "    Ajoute un filtre:\n",
    "    - avec liste déroulante sur la liste des valeurs\n",
    "    - titre,\n",
    "    - valeur par défaut\n",
    "\n",
    "    Paramètres :\n",
    "    - sheet : Feuille Excel à laquelle ajouter le filtre.\n",
    "    - title : Titre du filtre.\n",
    "    - value : Valeur par défaut du filtre.\n",
    "    - start_row : Ligne de début pour le titre du filtre.\n",
    "    - start_column : Colonne de début pour le titre du filtre.\n",
    "    - end_row : Ligne de fin pour le titre du filtre.\n",
    "    - end_column : Colonne de fin pour le titre du filtre.\n",
    "    - formula : Formule pour la liste de validation.\n",
    "    \"\"\"\n",
    "\n",
    "    \"\"\"\n",
    "    Ajoute un titre de filtre à une feuille Excel et fusionne les cellules correspondantes.\n",
    "\n",
    "    Cette fonction insère un texte (le titre du filtre) dans une plage de cellules spécifiée, \n",
    "    centre le texte horizontalement et verticalement, applique un fond gris clair, \n",
    "    et fusionne les cellules de la plage définie.\n",
    "\n",
    "    Paramètres :\n",
    "    - sheet: Feuille Excel dans laquelle ajouter le titre.\n",
    "    - title: Texte à afficher comme titre du filtre.\n",
    "    - start_row: Ligne de début de la plage à fusionner.\n",
    "    - start_column: Colonne de début de la plage à fusionner.\n",
    "    - end_row: Ligne de fin de la plage à fusionner.\n",
    "    - end_column: Colonne de fin de la plage à fusionner.\n",
    "    \"\"\""
   ]
  },
  {
   "cell_type": "code",
   "execution_count": 179,
   "id": "c6918f2f-4854-4747-bf46-8c7fe2771aa3",
   "metadata": {},
   "outputs": [],
   "source": [
    "## On crée des fonctions imbriquées permettant de séparer la création de filtre par étape pour:\n",
    "    # Simplifier la gestion\n",
    "    # Simplifier les évolutions\n",
    "    # Maximiser l'adaptabilité et la reproductibilité\n",
    "\n",
    "def filter (sheet, row, col, title, row_dval, col_dval, col_filter_var, len_filter_var):\n",
    "    filter_title = sheet.cell(row, col)\n",
    "    filter_title.value = f\"{title}\"\n",
    "\n",
    "    filter_default_value = sheet.cell(row_dval, col_dval)\n",
    "    filter_default_value.value = \"Tout\"\n",
    "\n",
    "    formula = f\"='INDEX'!${col_filter_var}$2:${col_filter_var}${len_filter_var}\"\n",
    "\n",
    "    filter_values = DataValidation(\n",
    "        type=\"list\",\n",
    "        formula1=formula,\n",
    "        allow_blank=True\n",
    "        )\n",
    "    sheet.add_data_validation(dv)\n",
    "    dv.add(sheet[\"G2\"])\n",
    "\n",
    "filter(bilan, 5, 7, \"Année\", 6, 7, 14, \"{len_col['len_TIME_PERIOD']}\")"
   ]
  },
  {
   "cell_type": "markdown",
   "id": "3faca343-6adc-4f94-8911-7bb78fdd047c",
   "metadata": {},
   "source": [
    "BROUILLON FONCTION FORMULE\n",
    "\n",
    "\n",
    "def formules(ws, target, sheet, col, range=None):\n",
    "    \"\"\"\n",
    "    Insère dans une cellule une formule Excel qui extrait les valeurs uniques triées\n",
    "    depuis une colonne donnée d'une autre feuille.\n",
    "       ** ws : nom de la feuille résultat\n",
    "       ** target : cellule cible du résultat\n",
    "       ** sheet : nom de la feuille source\n",
    "       ** col : colonne source \n",
    "       ** range : plage à sonder\n",
    "       ** formule : la formule Excel voulue\n",
    "    \"\"\"\n",
    "    if range:\n",
    "        ref_range = f\"{sheet}!{range}\"\n",
    "    else:\n",
    "        ref_range = f\"{sheet}!{col}:{col}\"\n",
    "\n",
    "    sort_unique = f\"=_xlfn.SORT(_xlfn.UNIQUE({range})\"\n",
    "    ws[target] = ArrayFormula(f\"{ref_range}\", sort_unique)\n"
   ]
  }
 ],
 "metadata": {
  "kernelspec": {
   "display_name": "Python 3 (ipykernel)",
   "language": "python",
   "name": "python3"
  },
  "language_info": {
   "codemirror_mode": {
    "name": "ipython",
    "version": 3
   },
   "file_extension": ".py",
   "mimetype": "text/x-python",
   "name": "python",
   "nbconvert_exporter": "python",
   "pygments_lexer": "ipython3",
   "version": "3.12.9"
  }
 },
 "nbformat": 4,
 "nbformat_minor": 5
}
